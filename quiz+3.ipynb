{
 "cells": [
  {
   "cell_type": "code",
   "execution_count": 1,
   "metadata": {
    "collapsed": true
   },
   "outputs": [],
   "source": [
    "import pandas as pd\n",
    "import networkx as nx\n",
    "import matplotlib.pyplot as plt\n"
   ]
  },
  {
   "cell_type": "code",
   "execution_count": 2,
   "metadata": {
    "collapsed": true
   },
   "outputs": [],
   "source": [
    "G = nx.Graph()"
   ]
  },
  {
   "cell_type": "code",
   "execution_count": 3,
   "metadata": {
    "collapsed": true
   },
   "outputs": [],
   "source": [
    "G.add_edge('A','B')\n",
    "G.add_edge('A','C')\n",
    "G.add_edge('B','D')\n",
    "G.add_edge('C','D')\n",
    "G.add_edge('C','E')\n",
    "G.add_edge('D','E')\n",
    "G.add_edge('D','G')\n",
    "G.add_edge('E','G')\n",
    "G.add_edge('G','F')"
   ]
  },
  {
   "cell_type": "code",
   "execution_count": 4,
   "metadata": {},
   "outputs": [
    {
     "data": {
      "image/png": "[encoded data removed]",
      "text/plain": [
       "<matplotlib.figure.Figure at 0x7f2ad403f668>"
      ]
     },
     "metadata": {},
     "output_type": "display_data"
    }
   ],
   "source": [
    "nx.draw_networkx(G)\n",
    "plt.show()"
   ]
  },
  {
   "cell_type": "code",
   "execution_count": 5,
   "metadata": {},
   "outputs": [
    {
     "data": {
      "text/plain": [
       "0.6666666666666666"
      ]
     },
     "execution_count": 5,
     "metadata": {},
     "output_type": "execute_result"
    }
   ],
   "source": [
    "# Based on the network above, what is the degree centrality of node D?\n",
    "nx.degree_centrality(G)['D']\n"
   ]
  },
  {
   "cell_type": "code",
   "execution_count": 28,
   "metadata": {},
   "outputs": [
    {
     "data": {
      "text/plain": [
       "0.6"
      ]
     },
     "execution_count": 28,
     "metadata": {},
     "output_type": "execute_result"
    }
   ],
   "source": [
    "#2. Question 2\n",
    "#Based on the network below, what is the closeness centrality of node G?\n",
    "nx.closeness_centrality(G)['G']\n"
   ]
  },
  {
   "cell_type": "code",
   "execution_count": 30,
   "metadata": {},
   "outputs": [
    {
     "data": {
      "text/plain": [
       "0.3333333333333333"
      ]
     },
     "execution_count": 30,
     "metadata": {},
     "output_type": "execute_result"
    }
   ],
   "source": [
    "# 3. Question 3\n",
    "# Based on the network below, what is the normalized betweenness centrality (excluding endpoints) of node G?\n",
    "nx.betweenness_centrality(G)['G']"
   ]
  },
  {
   "cell_type": "code",
   "execution_count": 36,
   "metadata": {},
   "outputs": [
    {
     "data": {
      "text/plain": [
       "6.0"
      ]
     },
     "execution_count": 36,
     "metadata": {},
     "output_type": "execute_result"
    }
   ],
   "source": [
    "# 3. Question 3\n",
    "\n",
    "# Based on the network below, what is the betweenness centrality without normalization of edge (G,F)?\n",
    "nx.edge_betweenness_centrality(G, normalized=False)[('G', 'F')]"
   ]
  },
  {
   "cell_type": "code",
   "execution_count": null,
   "metadata": {
    "collapsed": true
   },
   "outputs": [],
   "source": [
    "''' Select all True statements.\n",
    "\n",
    "\n",
    "We can use subsets of node-pairs to approximate betweenness centrality.\n",
    "\n",
    "\n",
    "The closeness centrality of a node describes how far the node is from others.\n",
    "\n",
    "\n",
    "The assumption of degree centrality is that important nodes have more connections.'''"
   ]
  },
  {
   "cell_type": "code",
   "execution_count": null,
   "metadata": {
    "collapsed": true
   },
   "outputs": [],
   "source": [
    "'''Nodes with high in-degree centrality have higher PRs than nodes with low in-degree centrality.\n",
    "\n",
    "\n",
    "The authority and hub score of each node is obtained by computing multiple iterations of HITS algorithm and both scores of most networks are convergent.'''"
   ]
  },
  {
   "cell_type": "code",
   "execution_count": 37,
   "metadata": {
    "collapsed": true
   },
   "outputs": [],
   "source": [
    "# 7. Question 7\n",
    "# Given the network below, which value of alpha (damping parameter) listed below in the NetworkX\n",
    "# function pagerank maximizes the PageRank of node D?\n",
    "\n",
    "G_7 = nx.DiGraph()"
   ]
  },
  {
   "cell_type": "code",
   "execution_count": 38,
   "metadata": {
    "collapsed": true
   },
   "outputs": [],
   "source": [
    "G_7.add_edge('B','A')\n",
    "G_7.add_edge('A','C')\n",
    "G_7.add_edge('C','D')\n",
    "G_7.add_edge('A','B')\n",
    "G_7.add_edge('D','C')\n"
   ]
  },
  {
   "cell_type": "code",
   "execution_count": 40,
   "metadata": {},
   "outputs": [
    {
     "data": {
      "image/png": "[encoded data removed]",
      "text/plain": [
       "<matplotlib.figure.Figure at 0x7f0be007ccc0>"
      ]
     },
     "metadata": {},
     "output_type": "display_data"
    }
   ],
   "source": [
    "nx.draw_networkx(G_7)\n",
    "plt.show()"
   ]
  },
  {
   "cell_type": "code",
   "execution_count": 48,
   "metadata": {},
   "outputs": [
    {
     "name": "stdout",
     "output_type": "stream",
     "text": [
      "0.95 0.4555778814326893\n",
      "0.9 0.420166725100649\n",
      "0.8 0.36764573423540375\n",
      "0.5 0.28571319580078125\n"
     ]
    }
   ],
   "source": [
    "alphas = [.95, .9, .8 , .5] \n",
    "\n",
    "for item in alphas:\n",
    "    print(item, nx.pagerank(G_7, alpha=item)['D'])\n",
    "#nx.pagerank(G_7)['D']"
   ]
  },
  {
   "cell_type": "code",
   "execution_count": 6,
   "metadata": {
    "collapsed": true
   },
   "outputs": [],
   "source": [
    "# 8. Question 8\n",
    "# Based on the network below, what is the basic PR of node C at step k = 1?\n",
    "G_8 = nx.DiGraph()\n"
   ]
  },
  {
   "cell_type": "code",
   "execution_count": 8,
   "metadata": {},
   "outputs": [
    {
     "data": {
      "image/png": "[encoded data removed]",
      "text/plain": [
       "<matplotlib.figure.Figure at 0x7f2aca382c18>"
      ]
     },
     "metadata": {},
     "output_type": "display_data"
    }
   ],
   "source": [
    "G_8.add_edge('A','B')\n",
    "G_8.add_edge('A','C')\n",
    "G_8.add_edge('B','C')\n",
    "G_8.add_edge('C','A')\n",
    "G_8.add_edge('D','C')\n",
    "nx.draw_networkx(G_8)\n",
    "plt.show()"
   ]
  },
  {
   "cell_type": "code",
   "execution_count": 21,
   "metadata": {
    "scrolled": true
   },
   "outputs": [
    {
     "data": {
      "text/plain": [
       "{'A': 0.25003712499999997, 'B': 0.2487501875, 'C': 0.2537126875, 'D': 0.2475}"
      ]
     },
     "execution_count": 21,
     "metadata": {},
     "output_type": "execute_result"
    }
   ],
   "source": [
    "nx.pagerank(G_8, max_iter=200, alpha=.01)"
   ]
  },
  {
   "cell_type": "code",
   "execution_count": 15,
   "metadata": {
    "scrolled": true
   },
   "outputs": [
    {
     "ename": "NetworkXError",
     "evalue": "HITS: power iteration failed to converge in 12 iterations.",
     "output_type": "error",
     "traceback": [
      "\u001b[0;31m---------------------------------------------------------------------------\u001b[0m",
      "\u001b[0;31mNetworkXError\u001b[0m                             Traceback (most recent call last)",
      "\u001b[0;32m<ipython-input-15-75bda50d9916>\u001b[0m in \u001b[0;36m<module>\u001b[0;34m()\u001b[0m\n\u001b[0;32m----> 1\u001b[0;31m \u001b[0mnx\u001b[0m\u001b[0;34m.\u001b[0m\u001b[0mhits\u001b[0m\u001b[0;34m(\u001b[0m\u001b[0mG\u001b[0m\u001b[0;34m,\u001b[0m \u001b[0mmax_iter\u001b[0m\u001b[0;34m=\u001b[0m\u001b[0;36m10\u001b[0m\u001b[0;34m)\u001b[0m\u001b[0;34m\u001b[0m\u001b[0m\n\u001b[0m",
      "\u001b[0;32m/opt/conda/lib/python3.6/site-packages/networkx/algorithms/link_analysis/hits_alg.py\u001b[0m in \u001b[0;36mhits\u001b[0;34m(G, max_iter, tol, nstart, normalized)\u001b[0m\n\u001b[1;32m    109\u001b[0m         \u001b[0;32mif\u001b[0m \u001b[0mi\u001b[0m\u001b[0;34m>\u001b[0m\u001b[0mmax_iter\u001b[0m\u001b[0;34m:\u001b[0m\u001b[0;34m\u001b[0m\u001b[0m\n\u001b[1;32m    110\u001b[0m             raise NetworkXError(\\\n\u001b[0;32m--> 111\u001b[0;31m             \"HITS: power iteration failed to converge in %d iterations.\"%(i+1))\n\u001b[0m\u001b[1;32m    112\u001b[0m         \u001b[0mi\u001b[0m\u001b[0;34m+=\u001b[0m\u001b[0;36m1\u001b[0m\u001b[0;34m\u001b[0m\u001b[0m\n\u001b[1;32m    113\u001b[0m     \u001b[0;32mif\u001b[0m \u001b[0mnormalized\u001b[0m\u001b[0;34m:\u001b[0m\u001b[0;34m\u001b[0m\u001b[0m\n",
      "\u001b[0;31mNetworkXError\u001b[0m: HITS: power iteration failed to converge in 12 iterations."
     ]
    }
   ],
   "source": [
    "nx.hits(G, max_iter=10)"
   ]
  },
  {
   "cell_type": "code",
   "execution_count": null,
   "metadata": {
    "collapsed": true
   },
   "outputs": [],
   "source": []
  }
 ],
 "metadata": {
  "kernelspec": {
   "display_name": "Python 3",
   "language": "python",
   "name": "python3"
  },
  "language_info": {
   "codemirror_mode": {
    "name": "ipython",
    "version": 3
   },
   "file_extension": ".py",
   "mimetype": "text/x-python",
   "name": "python",
   "nbconvert_exporter": "python",
   "pygments_lexer": "ipython3",
   "version": "3.6.0"
  }
 },
 "nbformat": 4,
 "nbformat_minor": 2
}
